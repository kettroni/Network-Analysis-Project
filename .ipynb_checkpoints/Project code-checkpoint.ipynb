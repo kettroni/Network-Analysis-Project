{
 "cells": [
  {
   "cell_type": "code",
   "execution_count": null,
   "metadata": {},
   "outputs": [],
   "source": [
    "import networkx as nx\n",
    "import matplotlib.pyplot as plt\n",
    "import pandas as pd\n",
    "import random\n",
    "import csv\n",
    "from sklearn.model_selection import train_test_split\n",
    "from sklearn.ensemble import RandomForestClassifier\n",
    "from sklearn.neighbors import KNeighborsClassifier\n",
    "from sklearn.metrics import accuracy_score\n",
    "import pickle\n",
    "import sys\n",
    "from utils import utils\n",
    "import numpy as np"
   ]
  },
  {
   "cell_type": "code",
   "execution_count": null,
   "metadata": {},
   "outputs": [],
   "source": [
    "#g = nx.read_edgelist(\"data/decoded.tsv\")\n",
    "\n",
    "#print(nx.info(g))\n",
    "pd.read_csv('data/decoded.tsv', nrows=80, delimiter='\\t').to_csv('data/decodedSample.tsv', sep='\\t', header = False, index = False)\n",
    "\n",
    "#reading the edgelist in a variable using networkX\n",
    "subgraph = nx.read_edgelist('data/decodedSample.tsv', delimiter='\\t', create_using=nx.DiGraph())\n",
    "#plotting the graph\n",
    "print(nx.info(subgraph))\n",
    "pos=nx.spring_layout(subgraph)\n",
    "nx.draw(subgraph, pos, node_color = '#A0CBE2', edge_color = '#00bb5e', width = 1, edge_cmap = plt.cm.Blues, with_labels = True)\n",
    "plt.savefig(\"graph_sample.pdf\")"
   ]
  },
  {
   "cell_type": "code",
   "execution_count": null,
   "metadata": {},
   "outputs": [],
   "source": [
    "def generate_missing_edges(out_file, train_percent = 0.7):\n",
    "    test_percent = 1 - train_percent\n",
    "    r = pd.read_csv('data/decoded.tsv', delimiter = '\\t', header = None)\n",
    "    nrows = r.shape[0]\n",
    "    removable_edges = random.sample(range(nrows), int(nrows*test_percent))    \n",
    "    temp = r\n",
    "    temp = temp.drop(removable_edges)\n",
    "    csv = temp.to_csv('data/smaller_edgelist.tsv', sep='\\t', index=False, index_label=False)\n",
    "    pickle.dump(removable_edges,open(out_file, 'wb'))\n"
   ]
  },
  {
   "cell_type": "code",
   "execution_count": null,
   "metadata": {},
   "outputs": [],
   "source": [
    "generate_missing_edges('data/removedEdgesList.pkl')"
   ]
  },
  {
   "cell_type": "code",
   "execution_count": null,
   "metadata": {},
   "outputs": [],
   "source": [
    "def random_forest_clf(X, y):\n",
    "    X_train, X_test, y_train, y_test = train_test_split(X, y, test_size = 0.3)\n",
    "    clf = RandomForestClassifier()\n",
    "    clf.fit(X_train, y_train)\n",
    "    # print(clf.fit(X_train, y_train).summary())\n",
    "    y_pred = clf.predict(X_test)\n",
    "    acc = accuracy_score(y_test, y_pred)\n",
    "    return [clf,acc,\"Random Forest Classifier\"]\n",
    "\n",
    "def knn_clf(X, y, neighs):\n",
    "    X_train, X_test, y_train, y_test = train_test_split(X, y, test_size = 0.3)\n",
    "    clf = KNeighborsClassifier(n_neighbors = neighs)\n",
    "    clf.fit(X_train, y_train)\n",
    "    y_pred = clf.predict(X_test)\n",
    "    acc = accuracy_score(y_test, y_pred)\n",
    "    return [clf,acc,\"K-Nearest Neighbors\"]"
   ]
  },
  {
   "cell_type": "code",
   "execution_count": null,
   "metadata": {},
   "outputs": [],
   "source": [
    "X = []\n",
    "with open('data/X_data.pkl', 'rb') as f:\n",
    "    X = pickle.load(f)\n",
    "y = []\n",
    "with open('data/Y_data.pkl', 'rb') as f:\n",
    "    y = pickle.load(f)"
   ]
  },
  {
   "cell_type": "code",
   "execution_count": null,
   "metadata": {},
   "outputs": [],
   "source": [
    "classifiers = []\n",
    "\n",
    "classifiers.append(random_forest_clf(X,y))"
   ]
  },
  {
   "cell_type": "code",
   "execution_count": null,
   "metadata": {},
   "outputs": [],
   "source": [
    "classifiers[0][1]"
   ]
  },
  {
   "cell_type": "code",
   "execution_count": null,
   "metadata": {},
   "outputs": [],
   "source": [
    "rm_edges = []\n",
    "with open('data/removedEdgesList.pkl', 'rb') as f:\n",
    "    rm_edges = pickle.load(f)\n",
    "\n",
    "# Load original network\n",
    "G = nx.read_edgelist('data/decoded.tsv', delimiter = '\\t', create_using=nx.DiGraph())\n",
    "\n",
    "# Load smaller network\n",
    "S = nx.read_edgelist('data/smaller_edgelist.tsv', delimiter = '\\t', create_using=nx.DiGraph())\n",
    "\n",
    "utils.HITS(S, 'data/smaller_hits.pkl')\n",
    "utils.PR_file(S, 'data/smaller_pr.pkl')\n",
    "\n",
    "pr = []\n",
    "with open('data/smaller_pr.pkl', 'rb') as f:\n",
    "    pr = pickle.load(f)\n",
    "\n",
    "hits = []\n",
    "with open('data/smaller_hits.pkl', 'rb') as f:\n",
    "    hits = pickle.load(f)\n",
    "\n",
    "cat_dict = []\n",
    "with open('data/getCategoryFromLinkDict.pkl', 'rb') as f:\n",
    "    cat_dict = pickle.load(f)"
   ]
  },
  {
   "cell_type": "code",
   "execution_count": null,
   "metadata": {
    "scrolled": true
   },
   "outputs": [],
   "source": [
    "vecs = []\n",
    "for e in G.edges():\n",
    "    u, v = e\n",
    "    a = list(utils.create_X(S,u,v, cat_dict,pr,hits))\n",
    "    vec = np.array(a)\n",
    "    vecs.append(vec)\n",
    "\n",
    "y_preds = classifiers[0][0].predict(vecs)\n",
    "score = accuracy_score(np.ones(len(G.edges)),y_preds)\n",
    "print(score)"
   ]
  }
 ],
 "metadata": {
  "kernelspec": {
   "display_name": "Python 3",
   "language": "python",
   "name": "python3"
  },
  "language_info": {
   "codemirror_mode": {
    "name": "ipython",
    "version": 3
   },
   "file_extension": ".py",
   "mimetype": "text/x-python",
   "name": "python",
   "nbconvert_exporter": "python",
   "pygments_lexer": "ipython3",
   "version": "3.7.3"
  }
 },
 "nbformat": 4,
 "nbformat_minor": 2
}
