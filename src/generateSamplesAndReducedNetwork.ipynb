{
 "cells": [
  {
   "cell_type": "code",
   "execution_count": null,
   "metadata": {},
   "outputs": [],
   "source": [
    "import networkx as nx\n",
    "import matplotlib.pyplot as plt\n",
    "import pandas as pd\n",
    "import random\n",
    "import csv\n",
    "import pickle\n",
    "import sys\n",
    "from utils import utils\n",
    "import numpy as np\n",
    "from sklearn.metrics import roc_curve, auc\n",
    "import math\n",
    "from sklearn.naive_bayes import GaussianNB"
   ]
  },
  {
   "cell_type": "code",
   "execution_count": null,
   "metadata": {},
   "outputs": [],
   "source": [
    "# Function used for visualization\n",
    "def generate_nsample_pdf(n):\n",
    "    pd.read_csv('../data/decoded.tsv', nrows=n, delimiter='\\t').to_csv('../data/decodedSample.tsv', sep='\\t', header = False, index = False)\n",
    "\n",
    "    #reading the edgelist in a variable using networkX\n",
    "    subgraph = nx.read_edgelist('../data/decodedSample.tsv', delimiter='\\t', create_using=nx.DiGraph())\n",
    "    #plotting the graph\n",
    "    print(nx.info(subgraph))\n",
    "    pos=nx.spring_layout(subgraph)\n",
    "    nx.draw(subgraph, pos, node_color = '#A0CBE2', edge_color = '#00bb5e', width = 1, edge_cmap = plt.cm.Blues, with_labels = True)\n",
    "    plt.savefig(\"graph_sample.pdf\")"
   ]
  },
  {
   "cell_type": "code",
   "execution_count": null,
   "metadata": {},
   "outputs": [],
   "source": [
    "# Randomly sampled part of the hyperlink data is dropped from the rest of the hyperlink data (here 30%)\n",
    "# Dumps a pickle file of removed edges\n",
    "# Creates a smaller network csv\n",
    "def generate_missing_edges(out_file, train_percent = 0.7):\n",
    "    test_percent = 1 - train_percent\n",
    "    r = pd.read_csv('../data/decoded.tsv', delimiter = '\\t', header = None)\n",
    "    nrows = r.shape[0]\n",
    "    removable_edges = random.sample(range(nrows), int(nrows*test_percent))    \n",
    "    temp = r\n",
    "    temp = temp.drop(removable_edges)\n",
    "    csv = temp.to_csv('../data/reduced_network.tsv', sep='\\t', index=False, index_label=False)\n",
    "    pickle.dump(removable_edges, open(out_file, 'wb'))\n"
   ]
  },
  {
   "cell_type": "code",
   "execution_count": null,
   "metadata": {},
   "outputs": [],
   "source": [
    "#generate_missing_edges('../data/removedEdgesList.pkl')"
   ]
  }
 ],
 "metadata": {
  "kernelspec": {
   "display_name": "Python 3",
   "language": "python",
   "name": "python3"
  },
  "language_info": {
   "codemirror_mode": {
    "name": "ipython",
    "version": 3
   },
   "file_extension": ".py",
   "mimetype": "text/x-python",
   "name": "python",
   "nbconvert_exporter": "python",
   "pygments_lexer": "ipython3",
   "version": "3.7.3"
  }
 },
 "nbformat": 4,
 "nbformat_minor": 2
}
