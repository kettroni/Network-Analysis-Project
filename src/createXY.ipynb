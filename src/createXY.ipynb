{
 "cells": [
  {
   "cell_type": "code",
   "execution_count": 1,
   "metadata": {},
   "outputs": [],
   "source": [
    "import networkx as nx\n",
    "import matplotlib.pyplot as plt\n",
    "import pandas as pd\n",
    "import pickle\n",
    "import re\n",
    "import math\n",
    "import random\n",
    "from utils import utils"
   ]
  },
  {
   "cell_type": "code",
   "execution_count": 2,
   "metadata": {},
   "outputs": [],
   "source": [
    "# Load original network\n",
    "G = nx.read_edgelist('../data/decoded.tsv', delimiter = '\\t', create_using=nx.DiGraph())"
   ]
  },
  {
   "cell_type": "code",
   "execution_count": 3,
   "metadata": {},
   "outputs": [],
   "source": [
    "# Create HITS and PR\n",
    "utils.HITS(G, '../data/hitsOrig.pkl')\n",
    "utils.PR_file(G, '../data/PROrig.pkl')"
   ]
  },
  {
   "cell_type": "code",
   "execution_count": 4,
   "metadata": {},
   "outputs": [],
   "source": [
    "# Load original HITS, PageRank and category data\n",
    "hits = []\n",
    "with open('../data/hitsOrig.pkl', 'rb') as f:\n",
    "    hits = pickle.load(f)\n",
    "    \n",
    "pr = []\n",
    "with open('../data/PROrig.pkl', 'rb') as f:\n",
    "    pr = pickle.load(f)\n",
    "    \n",
    "cat_dict = []\n",
    "with open('../data/getCategoryFromLinkDict.pkl', 'rb') as f:\n",
    "    cat_dict = pickle.load(f)\n"
   ]
  },
  {
   "cell_type": "code",
   "execution_count": 5,
   "metadata": {},
   "outputs": [],
   "source": [
    "# Loop over edges and create XY data for them\n",
    "vecs = []\n",
    "ys = []\n",
    "for e in G.edges:\n",
    "    x = e[0]\n",
    "    y = e[1]\n",
    "    \n",
    "    vec = utils.create_X(G,x,y, cat_dict, pr, hits)\n",
    "    vecs.append(vec)\n",
    "    ys.append(1)\n",
    "    "
   ]
  },
  {
   "cell_type": "code",
   "execution_count": 6,
   "metadata": {},
   "outputs": [],
   "source": [
    "# Loop over edges that don't exist\n",
    "for u in G.nodes():\n",
    "    i = 0\n",
    "    for v in G.nodes(): \n",
    "        if i > 30:\n",
    "            break  \n",
    "        if u == v:\n",
    "            continue\n",
    "        if G.has_edge(u,v):\n",
    "            continue\n",
    "        vecs.append(utils.create_X(G,u,v, cat_dict, pr, hits))\n",
    "        ys.append(0)\n",
    "        i = i + 1\n"
   ]
  },
  {
   "cell_type": "code",
   "execution_count": 7,
   "metadata": {},
   "outputs": [],
   "source": [
    "# Dump X and y with pickle\n",
    "\n",
    "# Transform vecs from tuples to list\n",
    "X_data = [list(item) for item in vecs]\n",
    "pickle.dump(X_data,open('../data/X_data.pkl', 'wb'))\n",
    "pickle.dump(ys,open('../data/Y_data.pkl', 'wb'))"
   ]
  }
 ],
 "metadata": {
  "kernelspec": {
   "display_name": "Python 3",
   "language": "python",
   "name": "python3"
  },
  "language_info": {
   "codemirror_mode": {
    "name": "ipython",
    "version": 3
   },
   "file_extension": ".py",
   "mimetype": "text/x-python",
   "name": "python",
   "nbconvert_exporter": "python",
   "pygments_lexer": "ipython3",
   "version": "3.7.3"
  }
 },
 "nbformat": 4,
 "nbformat_minor": 2
}
