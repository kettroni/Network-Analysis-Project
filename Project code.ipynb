{
 "cells": [
  {
   "cell_type": "code",
   "execution_count": 3,
   "metadata": {},
   "outputs": [],
   "source": [
    "import networkx as nx\n",
    "import matplotlib.pyplot as plt\n",
    "import pandas as pd\n",
    "import random\n",
    "import csv\n",
    "from sklearn.model_selection import train_test_split\n",
    "from sklearn.ensemble import RandomForestClassifier\n",
    "from sklearn.neighbors import KNeighborsClassifier\n",
    "from sklearn.metrics import accuracy_score\n",
    "import pickle\n",
    "import sys\n",
    "from utils import utils\n",
    "import numpy as np\n",
    "from sklearn.metrics import roc_curve, auc\n",
    "import math\n",
    "from sklearn.naive_bayes import GaussianNB"
   ]
  },
  {
   "cell_type": "code",
   "execution_count": null,
   "metadata": {},
   "outputs": [],
   "source": [
    "#g = nx.read_edgelist(\"data/decoded.tsv\")\n",
    "\n",
    "#print(nx.info(g))\n",
    "pd.read_csv('data/decoded.tsv', nrows=80, delimiter='\\t').to_csv('data/decodedSample.tsv', sep='\\t', header = False, index = False)\n",
    "\n",
    "#reading the edgelist in a variable using networkX\n",
    "subgraph = nx.read_edgelist('data/decodedSample.tsv', delimiter='\\t', create_using=nx.DiGraph())\n",
    "#plotting the graph\n",
    "print(nx.info(subgraph))\n",
    "pos=nx.spring_layout(subgraph)\n",
    "nx.draw(subgraph, pos, node_color = '#A0CBE2', edge_color = '#00bb5e', width = 1, edge_cmap = plt.cm.Blues, with_labels = True)\n",
    "plt.savefig(\"graph_sample.pdf\")"
   ]
  },
  {
   "cell_type": "code",
   "execution_count": null,
   "metadata": {},
   "outputs": [],
   "source": [
    "def generate_missing_edges(out_file, train_percent = 0.7):\n",
    "    test_percent = 1 - train_percent\n",
    "    r = pd.read_csv('data/decoded.tsv', delimiter = '\\t', header = None)\n",
    "    nrows = r.shape[0]\n",
    "    removable_edges = random.sample(range(nrows), int(nrows*test_percent))    \n",
    "    temp = r\n",
    "    temp = temp.drop(removable_edges)\n",
    "    csv = temp.to_csv('data/smaller_edgelist.tsv', sep='\\t', index=False, index_label=False)\n",
    "    pickle.dump(removable_edges,open(out_file, 'wb'))\n"
   ]
  },
  {
   "cell_type": "code",
   "execution_count": null,
   "metadata": {},
   "outputs": [],
   "source": [
    "generate_missing_edges('data/removedEdgesList.pkl')"
   ]
  },
  {
   "cell_type": "code",
   "execution_count": 4,
   "metadata": {},
   "outputs": [],
   "source": [
    "def random_forest_clf(X, y):\n",
    "    X_train, X_test, y_train, y_test = train_test_split(X, y, test_size = 0.3)\n",
    "    clf = RandomForestClassifier()\n",
    "    clf.fit(X_train, y_train)\n",
    "    # print(clf.fit(X_train, y_train).summary())\n",
    "    y_pred = clf.predict(X_test)\n",
    "    fpr,tpr,ths = roc_curve(y_test, y_pred)\n",
    "    acc = accuracy_score(y_test, y_pred)\n",
    "    return [clf,acc,\"Random Forest Classifier\",fpr,tpr,ths]\n",
    "\n",
    "def knn_clf(X, y, neighs):\n",
    "    X_train, X_test, y_train, y_test = train_test_split(X, y, test_size = 0.3)\n",
    "    clf = KNeighborsClassifier(n_neighbors = neighs)\n",
    "    clf.fit(X_train, y_train)\n",
    "    y_pred = clf.predict(X_test)\n",
    "    acc = accuracy_score(y_test, y_pred)\n",
    "    return [clf,acc,\"K-Nearest Neighbors\"]\n",
    "\n",
    "def nb_clf(X,y):\n",
    "    X_train, X_test, y_train, y_test = train_test_split(X, y, test_size = 0.3)\n",
    "    clf = GaussianNB()\n",
    "    clf.fit(X_train, y_train)\n",
    "    y_pred = clf.predict(X_test)\n",
    "    acc = accuracy_score(y_test, y_pred)\n",
    "    return [clf,acc,\"Naive Bayes\"]"
   ]
  },
  {
   "cell_type": "code",
   "execution_count": 5,
   "metadata": {},
   "outputs": [],
   "source": [
    "X = []\n",
    "with open('data/X_data.pkl', 'rb') as f:\n",
    "    X = pickle.load(f)\n",
    "y = []\n",
    "with open('data/Y_data.pkl', 'rb') as f:\n",
    "    y = pickle.load(f)"
   ]
  },
  {
   "cell_type": "code",
   "execution_count": 6,
   "metadata": {},
   "outputs": [],
   "source": [
    "classifiers = []\n",
    "\n",
    "classifiers.append(random_forest_clf(X,y))\n",
    "classifiers.append(knn_clf(X,y,int(math.sqrt(len(X)))))\n",
    "classifiers.append(nb_clf(X,y))"
   ]
  },
  {
   "cell_type": "code",
   "execution_count": 7,
   "metadata": {},
   "outputs": [
    {
     "name": "stdout",
     "output_type": "stream",
     "text": [
      "0.971272768872901\n",
      "0.7794231673678992\n",
      "0.7287056221479326\n"
     ]
    }
   ],
   "source": [
    "for i in range(len(classifiers)):\n",
    "    print(classifiers[i][1])"
   ]
  },
  {
   "cell_type": "code",
   "execution_count": null,
   "metadata": {},
   "outputs": [],
   "source": [
    "classifiers[0][3:6]"
   ]
  },
  {
   "cell_type": "code",
   "execution_count": 9,
   "metadata": {},
   "outputs": [],
   "source": [
    "rm_edges = []\n",
    "with open('data/removedEdgesList.pkl', 'rb') as f:\n",
    "    rm_edges = pickle.load(f)\n",
    "\n",
    "# Load original network\n",
    "G = nx.read_edgelist('data/decoded.tsv', delimiter = '\\t', create_using=nx.DiGraph())\n",
    "\n",
    "# Load smaller network\n",
    "S = nx.read_edgelist('data/smaller_edgelist.tsv', delimiter = '\\t', create_using=nx.DiGraph())\n",
    "\n",
    "utils.HITS(S, 'data/smaller_hits.pkl')\n",
    "utils.PR_file(S, 'data/smaller_pr.pkl')\n",
    "\n",
    "pr = []\n",
    "with open('data/smaller_pr.pkl', 'rb') as f:\n",
    "    pr = pickle.load(f)\n",
    "\n",
    "hits = []\n",
    "with open('data/smaller_hits.pkl', 'rb') as f:\n",
    "    hits = pickle.load(f)\n",
    "\n",
    "cat_dict = []\n",
    "with open('data/getCategoryFromLinkDict.pkl', 'rb') as f:\n",
    "    cat_dict = pickle.load(f)"
   ]
  },
  {
   "cell_type": "code",
   "execution_count": 11,
   "metadata": {
    "scrolled": true
   },
   "outputs": [
    {
     "name": "stdout",
     "output_type": "stream",
     "text": [
      "[0.94544635558299, 0.6104669591765236, 0.4055487896431491]\n"
     ]
    }
   ],
   "source": [
    "vecs = []\n",
    "scores = []\n",
    "for e in G.edges():\n",
    "    u, v = e\n",
    "    a = list(utils.create_X(S,u,v, cat_dict,pr,hits))\n",
    "    vec = np.array(a)\n",
    "    vecs.append(vec)\n",
    "\n",
    "for i in range(len(classifiers)):\n",
    "    y_pred = classifiers[i][0].predict(vecs)\n",
    "    score = accuracy_score(np.ones(len(G.edges)), y_pred)\n",
    "    scores.append(score)\n",
    "\n",
    "print(scores)"
   ]
  },
  {
   "cell_type": "code",
   "execution_count": 38,
   "metadata": {},
   "outputs": [
    {
     "name": "stdout",
     "output_type": "stream",
     "text": [
      "Example X vector \n",
      "\n",
      "[2.00000000e+00 5.55555556e-02 6.74533609e-01 1.02068712e-04\n",
      " 6.57470185e-04 5.99406214e-05 5.46303727e-04]\n",
      "['Number of common categories', 'Jaccard Distance', 'Adamic/Adar Index', 'Page rank for source', 'Page rank for target', 'HITS for source', 'HITS for target']\n"
     ]
    }
   ],
   "source": [
    "print(\"Example X vector \\n\")\n",
    "print(vecs[50])\n",
    "print(['Number of common categories', 'Jaccard Distance', 'Adamic/Adar Index', 'Page rank for source',\n",
    "           'Page rank for target', 'HITS for source', 'HITS for target'])"
   ]
  },
  {
   "cell_type": "code",
   "execution_count": 34,
   "metadata": {},
   "outputs": [
    {
     "name": "stdout",
     "output_type": "stream",
     "text": [
      "For Random Forest Classifier\n",
      "Variable: hits_y               Importance: 0.26\n",
      "Variable: pr_y                 Importance: 0.22\n",
      "Variable: aa                   Importance: 0.2\n",
      "Variable: jd                   Importance: 0.18\n",
      "Variable: hits_x               Importance: 0.06\n",
      "Variable: no_comm              Importance: 0.04\n",
      "Variable: pr_x                 Importance: 0.04\n",
      "\n",
      "\n"
     ]
    },
    {
     "data": {
      "image/png": "[encoded data removed]",
      "text/plain": [
       "<Figure size 432x288 with 1 Axes>"
      ]
     },
     "metadata": {
      "needs_background": "light"
     },
     "output_type": "display_data"
    }
   ],
   "source": [
    "# Calculate feature importances\n",
    "\n",
    "for i in range(1):\n",
    "    print(\"For\", classifiers[i][2])\n",
    "    feature_importances = list(classifiers[i][0].feature_importances_)\n",
    "    feature_list = list([\"no_comm\", \"jd\", \"aa\", \"pr_x\", \"pr_y\", \"hits_x\", \"hits_y\"])\n",
    "    f_importances = [(feature, round(feature_importance, 2)) for feature, feature_importance in zip(feature_list, feature_importances)]\n",
    "    # Sort the feature importances by most important first\n",
    "    f_importances = sorted(f_importances, key = lambda x: x[1], reverse = True)\n",
    "    # Print out the feature and importances \n",
    "    [print('Variable: {:20} Importance: {}'.format(*pair)) for pair in f_importances]\n",
    "    print('\\n')\n",
    "    lab = ['HITS for target', 'Page Rank for target', 'Adamic/Adar Index', 'Jaccard Distance',\n",
    "           'HITS for source', 'Number of common categories', 'Page rank for source']\n",
    "    imp = []\n",
    "    for f in f_importances:\n",
    "        imp.append(f[1])\n",
    "    plt.bar(lab,imp)\n",
    "    plt.ylabel('Importance')\n",
    "    plt.xticks(lab, rotation='vertical')\n",
    "    plt.title('Feature importances for Random Forest Classifier')"
   ]
  },
  {
   "cell_type": "code",
   "execution_count": 13,
   "metadata": {},
   "outputs": [
    {
     "data": {
      "image/png": "[encoded data removed]",
      "text/plain": [
       "<Figure size 432x288 with 1 Axes>"
      ]
     },
     "metadata": {
      "needs_background": "light"
     },
     "output_type": "display_data"
    }
   ],
   "source": [
    "# ROC curve for Random Forest\n",
    "fpr,tpr,ths = classifiers[0][3:6]\n",
    "auc_sc = auc(fpr, tpr)\n",
    "plt.plot(fpr, tpr, label='ROC curve (area = %0.2f)' % auc_sc)\n",
    "plt.xlabel('False Positive Rate')\n",
    "plt.ylabel('True Positive Rate')\n",
    "plt.title('ROC with test data')\n",
    "plt.legend()\n",
    "plt.show()"
   ]
  },
  {
   "cell_type": "code",
   "execution_count": 23,
   "metadata": {},
   "outputs": [
    {
     "data": {
      "image/png": "[encoded data removed]",
      "text/plain": [
       "<Figure size 1872x576 with 3 Axes>"
      ]
     },
     "metadata": {
      "needs_background": "light"
     },
     "output_type": "display_data"
    }
   ],
   "source": [
    "fig, ax = plt.subplots(1,len(classifiers), figsize=(26, 8))\n",
    "fig.subplots_adjust(hspace=0.5)\n",
    "i=0\n",
    "labels =['Test Set', 'Removed edges classification']\n",
    "\n",
    "for clf in classifiers:\n",
    "    \n",
    "    x = np.arange(len(labels))  # the label locations\n",
    "    width = 0.70  # the width of the bars\n",
    "\n",
    "    bars = ax[i].bar(x, [clf[1],scores[i]], width)\n",
    "\n",
    "    ax[i].set_ylabel('Score')\n",
    "    ax[i].set_ylim([0,1])\n",
    "    ax[i].set_title('Accuracy scores for ' + str(clf[2]))\n",
    "    ax[i].set_xticks(x)\n",
    "    ax[i].set_xticklabels(labels)\n",
    "    i = i+1\n",
    "    \n",
    "plt.draw()\n",
    "plt.savefig('pictures/accuracyGraph.png')"
   ]
  }
 ],
 "metadata": {
  "kernelspec": {
   "display_name": "Python 3",
   "language": "python",
   "name": "python3"
  },
  "language_info": {
   "codemirror_mode": {
    "name": "ipython",
    "version": 3
   },
   "file_extension": ".py",
   "mimetype": "text/x-python",
   "name": "python",
   "nbconvert_exporter": "python",
   "pygments_lexer": "ipython3",
   "version": "3.7.3"
  }
 },
 "nbformat": 4,
 "nbformat_minor": 2
}
