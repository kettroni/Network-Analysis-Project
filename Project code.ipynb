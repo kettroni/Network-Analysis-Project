{
 "cells": [
  {
   "cell_type": "code",
   "execution_count": null,
   "metadata": {},
   "outputs": [],
   "source": [
    "import networkx as nx\n",
    "import matplotlib.pyplot as plt\n",
    "import pandas as pd"
   ]
  },
  {
   "cell_type": "code",
   "execution_count": null,
   "metadata": {},
   "outputs": [],
   "source": [
    "#g = nx.read_edgelist(\"data/decoded.tsv\")\n",
    "\n",
    "#print(nx.info(g))\n",
    "pd.read_csv('data/decoded.tsv',nrows=80, delimiter='\\t').to_csv('data/decodedSample.tsv', sep='\\t',header=False,index=False)\n",
    "\n",
    "#reading the edgelist in a variable using networkX\n",
    "subgraph=nx.read_edgelist('data/decodedSample.tsv',delimiter='\\t',create_using=nx.DiGraph())\n",
    "#plotting the graph\n",
    "print(nx.info(subgraph))\n",
    "pos=nx.spring_layout(subgraph)\n",
    "nx.draw(subgraph,pos,node_color='#A0CBE2',edge_color='#00bb5e', width = 1, edge_cmap = plt.cm.Blues, with_labels = True)\n",
    "plt.savefig(\"graph_sample.pdf\")"
   ]
  },
  {
   "cell_type": "code",
   "execution_count": null,
   "metadata": {},
   "outputs": [],
   "source": []
  }
 ],
 "metadata": {
  "kernelspec": {
   "display_name": "Python 3",
   "language": "python",
   "name": "python3"
  },
  "language_info": {
   "codemirror_mode": {
    "name": "ipython",
    "version": 3
   },
   "file_extension": ".py",
   "mimetype": "text/x-python",
   "name": "python",
   "nbconvert_exporter": "python",
   "pygments_lexer": "ipython3",
   "version": "3.7.3"
  }
 },
 "nbformat": 4,
 "nbformat_minor": 2
}
